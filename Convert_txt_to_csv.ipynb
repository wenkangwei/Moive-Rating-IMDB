{
 "cells": [
  {
   "cell_type": "code",
   "execution_count": 4,
   "metadata": {},
   "outputs": [
    {
     "name": "stdout",
     "output_type": "stream",
     "text": [
      "Loading:  ../aclImdb/train/\n",
      "Loading:  ../aclImdb/test/\n"
     ]
    }
   ],
   "source": [
    "import os\n",
    "import csv\n",
    "\n",
    "#convert raw txt dataset to csv data\n",
    "\n",
    "root_path = \"../aclImdb/\"\n",
    "train_path = root_path+\"train/\"\n",
    "test_path = root_path+\"test/\"\n",
    "def convert_csv( csv_name='train'):\n",
    "    # write training set to csv file\n",
    "    w_fp = open(root_path+csv_name+'.csv',\"w+\")\n",
    "    writer = csv.DictWriter(w_fp,fieldnames=['text','score','label'])\n",
    "    writer.writeheader()\n",
    "    print(\"Loading:  \"+root_path+ csv_name+\"/\")\n",
    "    for label in ['pos', 'neg']:\n",
    "        file_path = root_path+ csv_name+\"/\"+ label+'/'\n",
    "\n",
    "        for txt_name in os.listdir( root_path+ csv_name+\"/\"+label+'/'):\n",
    "            file= file_path+txt_name\n",
    "#             print(\"Writing: \", txt_name)\n",
    "            score= txt_name.split('_')[1].split('.')[0]\n",
    "    #         print(\"score\")\n",
    "            score = int(score)\n",
    "    #         print(score)\n",
    "            fp = open(file,\"r\")\n",
    "            text= fp.read()\n",
    "    #         print(\"text:\")\n",
    "    #         print(text)\n",
    "            fp.close()\n",
    "            #write the header of each column\n",
    "            writer.writerow({'text':text, 'score':score,'label': 1 if label=='pos' else 0})\n",
    "    w_fp.close()\n",
    "\n",
    "#Load the raw text data and convert them to a single csv file\n",
    "# convert_csv(csv_name='train')    \n",
    "convert_csv(csv_name='test')"
   ]
  }
 ],
 "metadata": {
  "kernelspec": {
   "display_name": "My default: Python3.7.7",
   "language": "python",
   "name": "local-venv"
  },
  "language_info": {
   "codemirror_mode": {
    "name": "ipython",
    "version": 3
   },
   "file_extension": ".py",
   "mimetype": "text/x-python",
   "name": "python",
   "nbconvert_exporter": "python",
   "pygments_lexer": "ipython3",
   "version": "3.7.7"
  }
 },
 "nbformat": 4,
 "nbformat_minor": 2
}
